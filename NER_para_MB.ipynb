{
  "nbformat": 4,
  "nbformat_minor": 0,
  "metadata": {
    "colab": {
      "provenance": [],
      "authorship_tag": "ABX9TyM7KJTI1M5x5f/aGGsOHMUZ",
      "include_colab_link": true
    },
    "kernelspec": {
      "name": "python3",
      "display_name": "Python 3"
    },
    "language_info": {
      "name": "python"
    }
  },
  "cells": [
    {
      "cell_type": "markdown",
      "metadata": {
        "id": "view-in-github",
        "colab_type": "text"
      },
      "source": [
        "<a href=\"https://colab.research.google.com/github/MdelaVilla/MB/blob/main/NER_para_MB.ipynb\" target=\"_parent\"><img src=\"https://colab.research.google.com/assets/colab-badge.svg\" alt=\"Open In Colab\"/></a>"
      ]
    },
    {
      "cell_type": "code",
      "execution_count": null,
      "metadata": {
        "id": "GOa-w3oRPDKp"
      },
      "outputs": [],
      "source": [
        "# Load model directly\n",
        "  from transformers import AutoTokenizer, AutoModelForTokenClassification\n",
        "  from transformers import pipeline\n",
        "\n",
        "  tokenizer = AutoTokenizer.from_pretrained(\"Clinical-AI-Apollo/Medical-NER\")\n",
        "  model = AutoModelForTokenClassification.from_pretrained(\"Clinical-AI-Apollo/Medical-NER\")\n"
      ]
    },
    {
      "cell_type": "code",
      "source": [
        "nlp = pipeline(\"ner\", model=model, tokenizer=tokenizer)\n",
        "example = \"the investigations reported here offer a model for further research into possible intrauterine factors in the pathogenesis of hyaline membrane disease\"\n",
        "\n",
        "ner_results = nlp(example)\n",
        "print(ner_results)"
      ],
      "metadata": {
        "colab": {
          "base_uri": "https://localhost:8080/"
        },
        "id": "yzOGeVjTQOOs",
        "outputId": "3a7d946e-f357-42ed-ef47-25915dcb1685"
      },
      "execution_count": null,
      "outputs": [
        {
          "output_type": "stream",
          "name": "stdout",
          "text": [
            "[{'entity': 'B-DISEASE_DISORDER', 'score': 0.47977594, 'index': 19, 'word': '▁hy', 'start': 125, 'end': 128}, {'entity': 'I-DISEASE_DISORDER', 'score': 0.405778, 'index': 20, 'word': 'a', 'start': 128, 'end': 129}, {'entity': 'I-DISEASE_DISORDER', 'score': 0.45834148, 'index': 21, 'word': 'line', 'start': 129, 'end': 133}, {'entity': 'I-DISEASE_DISORDER', 'score': 0.5808652, 'index': 22, 'word': '▁membrane', 'start': 133, 'end': 142}, {'entity': 'I-DISEASE_DISORDER', 'score': 0.6104399, 'index': 23, 'word': '▁disease', 'start': 142, 'end': 150}]\n"
          ]
        }
      ]
    },
    {
      "cell_type": "code",
      "source": [
        "from transformers import AutoTokenizer, AutoModelForTokenClassification\n",
        "from transformers import pipeline\n",
        "\n",
        "# Cargar el modelo y el tokenizador preentrenados\n",
        "tokenizer = AutoTokenizer.from_pretrained(\"Clinical-AI-Apollo/Medical-NER\")\n",
        "model = AutoModelForTokenClassification.from_pretrained(\"Clinical-AI-Apollo/Medical-NER\")\n",
        "\n",
        "# Crear un pipeline para el reconocimiento de entidades nombradas\n",
        "nlp = pipeline(\"ner\", model=model, tokenizer=tokenizer)\n",
        "\n",
        "def enrich_text_with_ner(text):\n",
        "    # Obtener los resultados del reconocimiento de entidades nombradas\n",
        "    ner_results = nlp(text)\n",
        "\n",
        "    # Ordenar las entidades por sus posiciones de inicio\n",
        "    ner_results = sorted(ner_results, key=lambda x: x['start'])\n",
        "\n",
        "    # Inicializar una lista para almacenar las entidades combinadas\n",
        "    combined_entities = []\n",
        "\n",
        "    # Combinar entidades contiguas del mismo tipo\n",
        "    for entity in ner_results:\n",
        "        entity_type = entity['entity'].split('-')[-1]  # Obtener el tipo de entidad sin el prefijo B- o I-\n",
        "        if combined_entities and entity_type == combined_entities[-1]['entity']:\n",
        "            combined_entities[-1]['end'] = entity['end']\n",
        "            combined_entities[-1]['word'] += text[entity['start']:entity['end']]\n",
        "        else:\n",
        "            combined_entities.append({\n",
        "                'entity': entity_type,\n",
        "                'start': entity['start'],\n",
        "                'end': entity['end'],\n",
        "                'word': text[entity['start']:entity['end']]\n",
        "            })\n",
        "\n",
        "    # Inicializar una cadena vacía para almacenar el texto enriquecido\n",
        "    enriched_text = \"\"\n",
        "\n",
        "    # Inicializar una variable para rastrear la última posición en el texto\n",
        "    last_position = 0\n",
        "\n",
        "    # Iterar sobre las entidades combinadas y enriquecer el texto\n",
        "    for entity in combined_entities:\n",
        "        # Agregar el texto antes de la entidad\n",
        "        enriched_text += text[last_position:entity['start']]\n",
        "\n",
        "        # Agregar la entidad con etiquetas\n",
        "        enriched_text += f\"<{entity['entity']}>{entity['word']}</{entity['entity']}>\"\n",
        "\n",
        "        # Actualizar la última posición\n",
        "        last_position = entity['end']\n",
        "\n",
        "    # Agregar el texto restante después de la última entidad\n",
        "    enriched_text += text[last_position:]\n",
        "\n",
        "    return enriched_text\n",
        "\n",
        "# Texto de ejemplo\n",
        "example_text = \"the investigations reported here offer a model for further research into possible intrauterine factors in the pathogenesis of hyaline membrane disease\"\n",
        "\n",
        "# Enriquecer el texto con etiquetas de NER y mostrar el resultado\n",
        "enriched_text = enrich_text_with_ner(example_text)\n",
        "print(enriched_text)"
      ],
      "metadata": {
        "colab": {
          "base_uri": "https://localhost:8080/"
        },
        "id": "ADnoTZdAWKl6",
        "outputId": "57c61583-054d-440e-88e4-08fd6b9513e7"
      },
      "execution_count": null,
      "outputs": [
        {
          "output_type": "stream",
          "name": "stderr",
          "text": [
            "Asking to truncate to max_length but no maximum length is provided and the model has no predefined maximum length. Default to no truncation.\n"
          ]
        },
        {
          "output_type": "stream",
          "name": "stdout",
          "text": [
            "the investigations reported here offer a model for further research into possible intrauterine factors in the pathogenesis of<DISEASE_DISORDER> hyaline membrane disease</DISEASE_DISORDER>\n"
          ]
        }
      ]
    }
  ]
}